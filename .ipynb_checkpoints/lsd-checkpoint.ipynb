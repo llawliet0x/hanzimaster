{
 "cells": [
  {
   "cell_type": "code",
   "execution_count": null,
   "id": "faf0192f-f263-47fa-bf19-8005d4f61caa",
   "metadata": {},
   "outputs": [],
   "source": [
    "\n",
    "# %%\n",
    "# 安装依赖库（如果未安装，取消注释运行）\n",
    "# !pip install opencv-contrib-python matplotlib numpy\n",
    "\n",
    "# %%\n",
    "import cv2\n",
    "import numpy as np\n",
    "import matplotlib.pyplot as plt\n",
    "%matplotlib inline"
   ]
  },
  {
   "cell_type": "code",
   "execution_count": null,
   "id": "134f4c24-1796-4599-b7b6-b29f19fd72a3",
   "metadata": {},
   "outputs": [],
   "source": [
    "# %% [markdown]\n",
    "# ## 1. 读取图像\n",
    "# 请将你的图片命名为 `input.jpg` 并上传到当前目录，或修改下方路径\n",
    "\n",
    "# %%\n",
    "# 读取图像\n",
    "image_path = \"input.jpg\"  # 修改为你的图片路径\n",
    "image = cv2.imread(image_path)\n",
    "\n",
    "if image is None:\n",
    "    raise FileNotFoundError(f\"图片 {image_path} 未找到，请检查路径！\")\n",
    "\n",
    "# 将 BGR 转换为 RGB 用于 matplotlib 显示\n",
    "image_rgb = cv2.cvtColor(image, cv2.COLOR_BGR2RGB)\n",
    "\n",
    "# 显示原图\n",
    "plt.figure(figsize=(10, 6))\n",
    "plt.imshow(image_rgb)\n",
    "plt.title(\"原始图像\")\n",
    "plt.axis('off')\n",
    "plt.show()"
   ]
  },
  {
   "cell_type": "code",
   "execution_count": null,
   "id": "b5c814db-09b9-49c1-b957-52cf6dea22ec",
   "metadata": {},
   "outputs": [],
   "source": [
    "# %% [markdown]\n",
    "# ## 2. 使用 LSD 检测线条\n",
    "\n",
    "# %%\n",
    "# 转换为灰度图\n",
    "gray = cv2.cvtColor(image, cv2.COLOR_BGR2GRAY)\n",
    "\n",
    "# 创建 LSD 检测器（需要 opencv-contrib）\n",
    "lsd = cv2.createLineSegmentDetector(0)  # 参数 0 表示默认模式\n",
    "\n",
    "# 检测线条\n",
    "lines, _, _, _ = lsd.detect(gray)\n",
    "\n",
    "# %% [markdown]\n",
    "# ## 3. 可视化检测结果\n",
    "\n",
    "# %%\n",
    "# 创建一个副本用于绘制线条\n",
    "drawn_image = np.copy(image)\n",
    "\n",
    "if lines is not None:\n",
    "    # 绘制线条（颜色为红色，线宽为2）\n",
    "    drawn_image = lsd.drawSegments(drawn_image, lines)[0]\n",
    "    # 将 BGR 转换为 RGB\n",
    "    drawn_image_rgb = cv2.cvtColor(drawn_image, cv2.COLOR_BGR2RGB)\n",
    "else:\n",
    "    drawn_image_rgb = image_rgb.copy()\n",
    "    print(\"未检测到线条！\")\n",
    "\n",
    "# 并排显示原图与结果\n",
    "plt.figure(figsize=(15, 8))\n",
    "plt.subplot(1, 2, 1)\n",
    "plt.imshow(image_rgb)\n",
    "plt.title(\"原始图像\")\n",
    "plt.axis('off')\n",
    "\n",
    "plt.subplot(1, 2, 2)\n",
    "plt.imshow(drawn_image_rgb)\n",
    "plt.title(\"LSD 检测结果（红色线条）\")\n",
    "plt.axis('off')\n",
    "\n",
    "plt.tight_layout()\n",
    "plt.show()"
   ]
  },
  {
   "cell_type": "code",
   "execution_count": null,
   "id": "5c510059-c815-47dc-b881-d10afb79132c",
   "metadata": {},
   "outputs": [],
   "source": [
    "# %% [markdown]\n",
    "# ## 4. 保存结果\n",
    "\n",
    "# %%\n",
    "# 保存结果图\n",
    "output_path = \"output_lines.jpg\"\n",
    "cv2.imwrite(output_path, cv2.cvtColor(drawn_image_rgb, cv2.COLOR_RGB2BGR))\n",
    "print(f\"结果已保存至：{output_path}\")"
   ]
  }
 ],
 "metadata": {
  "kernelspec": {
   "display_name": "Python 3 (ipykernel)",
   "language": "python",
   "name": "python3"
  },
  "language_info": {
   "codemirror_mode": {
    "name": "ipython",
    "version": 3
   },
   "file_extension": ".py",
   "mimetype": "text/x-python",
   "name": "python",
   "nbconvert_exporter": "python",
   "pygments_lexer": "ipython3",
   "version": "3.8.20"
  }
 },
 "nbformat": 4,
 "nbformat_minor": 5
}
